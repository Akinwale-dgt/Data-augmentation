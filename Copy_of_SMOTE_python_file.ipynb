{
  "nbformat": 4,
  "nbformat_minor": 0,
  "metadata": {
    "colab": {
      "provenance": []
    },
    "kernelspec": {
      "name": "python3",
      "display_name": "Python 3"
    },
    "language_info": {
      "name": "python"
    }
  },
  "cells": [
    {
      "cell_type": "code",
      "source": [
        "import pandas as pd\n",
        "import numpy as np\n",
        "from sklearn.impute import SimpleImputer\n",
        "from imblearn.over_sampling import SMOTE\n",
        "\n",
        "# Load the data and labels\n",
        "data = pd.read_csv('/content/drive/MyDrive/Machine learning/EDA/MEDIUM.csv')\n",
        "labels = pd.read_csv('/content/drive/MyDrive/Machine learning/EDA/MEDLABEL.csv')\n",
        "\n",
        "# Separate features (X) and labels (y)\n",
        "X = data.values\n",
        "y = labels.values.ravel()\n",
        "\n",
        "# Check for missing values\n",
        "missing_values = np.isnan(X)\n",
        "if np.any(missing_values):\n",
        "    # Replace NaN values with the median\n",
        "    imputer = SimpleImputer(strategy='median')\n",
        "    X = imputer.fit_transform(X)\n",
        "\n",
        "# Calculate the desired minority class size based on the sampling rate\n",
        "original_minority_size = np.sum(y == 2)  # Replace '2' with your actual minority class label\n",
        "desired_sampling_rate = 8.18044608418581\n",
        "desired_minority_size = int(original_minority_size * desired_sampling_rate)\n",
        "\n",
        "# Apply SMOTE with the desired minority class size\n",
        "smote = SMOTE(sampling_strategy={2: desired_minority_size}, k_neighbors=5)  # Replace '2' with your actual minority class label\n",
        "X_smote, y_smote = smote.fit_resample(X, y)\n",
        "\n",
        "# Create a DataFrame for the synthetic data with labels\n",
        "synthetic_data = pd.DataFrame(X_smote, columns=data.columns[:-1])  # Exclude the label column\n",
        "synthetic_data['label'] = y_smote  # Add the label column\n",
        "\n",
        "# Save the synthetic data to a CSV file with labels\n",
        "synthetic_data_only = synthetic_data[~synthetic_data.index.isin(data.index)]  # Select only the synthetic data rows\n",
        "synthetic_data_only.to_csv('/content/drive/MyDrive/Machine learning/EDA/SMOTE med.csv', index=False)\n",
        "\n",
        "\n"
      ],
      "metadata": {
        "id": "7CI7ZWPNcjKK"
      },
      "execution_count": null,
      "outputs": []
    },
    {
      "cell_type": "code",
      "source": [
        "from google.colab import drive\n",
        "drive.mount('/content/drive')"
      ],
      "metadata": {
        "colab": {
          "base_uri": "https://localhost:8080/"
        },
        "id": "X5-ExitFmZvV",
        "outputId": "a3c37d79-7dd1-455b-f588-013573723e41"
      },
      "execution_count": null,
      "outputs": [
        {
          "output_type": "stream",
          "name": "stdout",
          "text": [
            "Mounted at /content/drive\n"
          ]
        }
      ]
    }
  ]
}