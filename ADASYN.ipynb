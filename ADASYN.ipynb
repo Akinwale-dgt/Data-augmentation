{
  "nbformat": 4,
  "nbformat_minor": 0,
  "metadata": {
    "colab": {
      "provenance": []
    },
    "kernelspec": {
      "name": "python3",
      "display_name": "Python 3"
    },
    "language_info": {
      "name": "python"
    }
  },
  "cells": [
    {
      "cell_type": "code",
      "source": [
        "!pip install imbalanced-learn\n",
        "!pip install scikit-learn\n"
      ],
      "metadata": {
        "id": "7CI7ZWPNcjKK",
        "colab": {
          "base_uri": "https://localhost:8080/"
        },
        "outputId": "1c15afd5-e793-4841-8604-1fa1aaf637a6"
      },
      "execution_count": null,
      "outputs": [
        {
          "output_type": "stream",
          "name": "stdout",
          "text": [
            "Requirement already satisfied: imbalanced-learn in /usr/local/lib/python3.10/dist-packages (0.12.3)\n",
            "Requirement already satisfied: numpy>=1.17.3 in /usr/local/lib/python3.10/dist-packages (from imbalanced-learn) (1.26.4)\n",
            "Requirement already satisfied: scipy>=1.5.0 in /usr/local/lib/python3.10/dist-packages (from imbalanced-learn) (1.13.1)\n",
            "Requirement already satisfied: scikit-learn>=1.0.2 in /usr/local/lib/python3.10/dist-packages (from imbalanced-learn) (1.3.2)\n",
            "Requirement already satisfied: joblib>=1.1.1 in /usr/local/lib/python3.10/dist-packages (from imbalanced-learn) (1.4.2)\n",
            "Requirement already satisfied: threadpoolctl>=2.0.0 in /usr/local/lib/python3.10/dist-packages (from imbalanced-learn) (3.5.0)\n",
            "Requirement already satisfied: scikit-learn in /usr/local/lib/python3.10/dist-packages (1.3.2)\n",
            "Requirement already satisfied: numpy<2.0,>=1.17.3 in /usr/local/lib/python3.10/dist-packages (from scikit-learn) (1.26.4)\n",
            "Requirement already satisfied: scipy>=1.5.0 in /usr/local/lib/python3.10/dist-packages (from scikit-learn) (1.13.1)\n",
            "Requirement already satisfied: joblib>=1.1.1 in /usr/local/lib/python3.10/dist-packages (from scikit-learn) (1.4.2)\n",
            "Requirement already satisfied: threadpoolctl>=2.0.0 in /usr/local/lib/python3.10/dist-packages (from scikit-learn) (3.5.0)\n"
          ]
        }
      ]
    },
    {
      "cell_type": "code",
      "source": [
        "from google.colab import drive\n",
        "drive.mount('/content/drive')"
      ],
      "metadata": {
        "colab": {
          "base_uri": "https://localhost:8080/"
        },
        "id": "X5-ExitFmZvV",
        "outputId": "7ce7b78f-cb5f-4457-ba8c-a1b88df55c72"
      },
      "execution_count": null,
      "outputs": [
        {
          "output_type": "stream",
          "name": "stdout",
          "text": [
            "Mounted at /content/drive\n"
          ]
        }
      ]
    },
    {
      "cell_type": "code",
      "source": [
        "import pandas as pd\n",
        "import numpy as np\n",
        "from imblearn.over_sampling import ADASYN\n",
        "import matplotlib.pyplot as plt\n",
        "\n",
        "# Load the data and labels\n",
        "data = pd.read_csv('/content/drive/MyDrive/Deep learning python/Data preparation Per subtask/CombinedData.csv')\n",
        "labels = pd.read_csv('/content/drive/MyDrive/Deep learning python/Data preparation Per subtask/LABEL.csv')\n",
        "\n",
        "# Separate features (X) and labels (y)\n",
        "X = data.values\n",
        "y = labels.values.ravel()\n",
        "\n",
        "# Calculate the desired minority class size based on the sampling rate\n",
        "original_minority_size = np.sum(y == 1)  #\"1' represent minority class label\n",
        "desired_sampling_rate = 1.13\n",
        "desired_minority_size = int(original_minority_size * desired_sampling_rate)\n",
        "\n",
        "# Apply ADASYN with the desired minority class size\n",
        "adasyn = ADASYN(sampling_strategy={1: desired_minority_size}, n_neighbors=5, random_state=42)   #\"1' represent minority class label\n",
        "X_adasyn, y_adasyn = adasyn.fit_resample(X, y)\n",
        "\n",
        "# Create a DataFrame for the synthetic data with labels\n",
        "synthetic_data = pd.DataFrame(X_adasyn, columns=data.columns)\n",
        "synthetic_data['label'] = y_adasyn  # Add the label column\n",
        "\n",
        "# Save the synthetic data to a CSV file with labels\n",
        "synthetic_data_only = synthetic_data[~synthetic_data.index.isin(data.index)]  # Select only the synthetic data rows\n",
        "synthetic_data_only.to_csv('/content/drive/MyDrive/Deep learning python/Data preparation Per subtask/ADASYNLM_aug2.csv', index=False)\n",
        "\n",
        "# Plotting the original dataset\n",
        "plt.figure(figsize=(10, 5))\n",
        "plt.subplot(1, 2, 1)\n",
        "plt.scatter(X[:, 0], X[:, 1], c=y, marker='o', edgecolor='k', alpha=0.7)\n",
        "plt.title('Original Dataset')\n",
        "plt.xlabel('Feature 1')\n",
        "plt.ylabel('Feature 2')\n",
        "\n",
        "# Plotting the augmented dataset\n",
        "plt.subplot(1, 2, 2)\n",
        "plt.scatter(X_adasyn[:, 0], X_adasyn[:, 1], c=y_adasyn, marker='o', edgecolor='k', alpha=0.7)\n",
        "plt.title('Augmented Dataset with ADASYN')\n",
        "plt.xlabel('Feature 1')\n",
        "plt.ylabel('Feature 2')\n",
        "\n",
        "plt.tight_layout()\n",
        "plt.show()\n",
        "\n",
        "# Check the class distribution\n",
        "print(f'Original dataset shape: {np.bincount(y)}')\n",
        "print(f'Resampled dataset shape: {np.bincount(y_adasyn)}')"
      ],
      "metadata": {
        "id": "JnwW8hVTpNxG"
      },
      "execution_count": null,
      "outputs": []
    }
  ]
}